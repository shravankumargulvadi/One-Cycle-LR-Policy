{
  "nbformat": 4,
  "nbformat_minor": 0,
  "metadata": {
    "colab": {
      "name": "Assignment 12.ipynb",
      "version": "0.3.2",
      "provenance": [],
      "collapsed_sections": [],
      "include_colab_link": true
    },
    "kernelspec": {
      "name": "python3",
      "display_name": "Python 3"
    },
    "accelerator": "GPU"
  },
  "cells": [
    {
      "cell_type": "markdown",
      "metadata": {
        "id": "view-in-github",
        "colab_type": "text"
      },
      "source": [
        "<a href=\"https://colab.research.google.com/github/shravankumargulvadi/Assignment-12/blob/master/Assignment_12.ipynb\" target=\"_parent\"><img src=\"https://colab.research.google.com/assets/colab-badge.svg\" alt=\"Open In Colab\"/></a>"
      ]
    },
    {
      "cell_type": "markdown",
      "metadata": {
        "id": "g2zHhTWg9458",
        "colab_type": "text"
      },
      "source": [
        "\n",
        "\n",
        "## Assignment-12\n",
        "First Attempt at achieving super convergence,\n",
        "\n",
        "Implemented One cycle LR,\n",
        "\n",
        "Network Architechture, Augmentation and hyperparameters as per DAVID NET(DAWN bench)\n",
        "\n",
        "## Result\n",
        "Max Val_accu with in 24 epochs=84.8%\n",
        "Time taken close to 20mins\n",
        "\n",
        "\n",
        "\n",
        "\n",
        "\n",
        "\n",
        "\n",
        "\n",
        "\n"
      ]
    },
    {
      "cell_type": "code",
      "metadata": {
        "id": "KkwXnw9OfHZl",
        "colab_type": "code",
        "colab": {
          "base_uri": "https://localhost:8080/",
          "height": 34
        },
        "outputId": "f70fcf14-d20d-48ed-fa9d-56d8ff67a234"
      },
      "source": [
        "import time\n",
        "import keras\n",
        "from keras import backend as K\n",
        "import matplotlib.pyplot as plt\n",
        "import numpy as np \n",
        "from keras import regularizers\n",
        "from keras.models import Sequential, Model\n",
        "from keras.layers.convolutional import Convolution2D, MaxPooling2D,AveragePooling2D, ZeroPadding2D\n",
        "from keras.layers import Activation, Flatten, Dense, Dropout, Input, Lambda, Add\n",
        "from keras.layers.normalization import BatchNormalization\n",
        "from keras.utils import np_utils\n",
        "from keras.preprocessing.image import ImageDataGenerator\n",
        "from keras.callbacks import ModelCheckpoint\n",
        "from keras.callbacks import Callback\n",
        "\n"
      ],
      "execution_count": 1,
      "outputs": [
        {
          "output_type": "stream",
          "text": [
            "Using TensorFlow backend.\n"
          ],
          "name": "stderr"
        }
      ]
    },
    {
      "cell_type": "code",
      "metadata": {
        "id": "NHpnoCHZfO8g",
        "colab_type": "code",
        "colab": {}
      },
      "source": [
        "from keras.datasets import cifar10\n",
        "(train_features, train_labels), (test_features, test_labels) = cifar10.load_data()\n",
        "num_train, img_rows, img_cols,img_channels =  train_features.shape\n",
        "num_test, _, _, _ =  test_features.shape\n",
        "num_classes = len(np.unique(train_labels))"
      ],
      "execution_count": 0,
      "outputs": []
    },
    {
      "cell_type": "code",
      "metadata": {
        "id": "2R9KHV8A19cw",
        "colab_type": "code",
        "outputId": "48c030c1-21c4-4d9e-89de-ccd54f38fe58",
        "colab": {
          "base_uri": "https://localhost:8080/",
          "height": 68
        }
      },
      "source": [
        "print (num_classes)\n",
        "print (num_train)\n",
        "print (train_features.shape)"
      ],
      "execution_count": 3,
      "outputs": [
        {
          "output_type": "stream",
          "text": [
            "10\n",
            "50000\n",
            "(50000, 32, 32, 3)\n"
          ],
          "name": "stdout"
        }
      ]
    },
    {
      "cell_type": "code",
      "metadata": {
        "id": "14HyBUXdfS6G",
        "colab_type": "code",
        "outputId": "bc76841f-b2fa-4762-8597-7b8b268c1779",
        "colab": {
          "base_uri": "https://localhost:8080/",
          "height": 213
        }
      },
      "source": [
        "class_names = ['airplane','automobile','bird','cat','deer',\n",
        "               'dog','frog','horse','ship','truck']\n",
        "fig = plt.figure(figsize=(8,3))\n",
        "for i in range(num_classes):\n",
        "    ax = fig.add_subplot(2, 5, 1 + i, xticks=[], yticks=[])\n",
        "    idx = np.where(train_labels[:]==i)[0]\n",
        "    features_idx = train_features[idx,::]\n",
        "    img_num = np.random.randint(features_idx.shape[0])\n",
        "    im = features_idx[img_num]\n",
        "    ax.set_title(class_names[i])\n",
        "    plt.imshow(im)\n",
        "plt.show()"
      ],
      "execution_count": 4,
      "outputs": [
        {
          "output_type": "display_data",
          "data": {
            "image/png": "[encoded data removed]",
            "text/plain": [
              "<Figure size 576x216 with 10 Axes>"
            ]
          },
          "metadata": {
            "tags": []
          }
        }
      ]
    },
    {
      "cell_type": "code",
      "metadata": {
        "id": "T5c5nDvxm6zR",
        "colab_type": "code",
        "colab": {}
      },
      "source": [
        "train_features = train_features.astype('float32')/255\n",
        "test_features = test_features.astype('float32')/255\n",
        "# convert class labels to binary class labels\n",
        "train_labels = np_utils.to_categorical(train_labels, num_classes)\n",
        "test_labels = np_utils.to_categorical(test_labels, num_classes)"
      ],
      "execution_count": 0,
      "outputs": []
    },
    {
      "cell_type": "code",
      "metadata": {
        "id": "9upyHvwj3JhG",
        "colab_type": "code",
        "outputId": "c0ecc734-86e6-445f-e479-42b525c24d7e",
        "colab": {
          "base_uri": "https://localhost:8080/",
          "height": 136
        }
      },
      "source": [
        "train_labels"
      ],
      "execution_count": 6,
      "outputs": [
        {
          "output_type": "execute_result",
          "data": {
            "text/plain": [
              "array([[0., 0., 0., ..., 0., 0., 0.],\n",
              "       [0., 0., 0., ..., 0., 0., 1.],\n",
              "       [0., 0., 0., ..., 0., 0., 1.],\n",
              "       ...,\n",
              "       [0., 0., 0., ..., 0., 0., 1.],\n",
              "       [0., 1., 0., ..., 0., 0., 0.],\n",
              "       [0., 1., 0., ..., 0., 0., 0.]], dtype=float32)"
            ]
          },
          "metadata": {
            "tags": []
          },
          "execution_count": 6
        }
      ]
    },
    {
      "cell_type": "code",
      "metadata": {
        "id": "u4LesjGGO4Q9",
        "colab_type": "code",
        "colab": {}
      },
      "source": [
        "\n",
        "\n",
        "X_train_mean = np.mean(train_features, axis=(0,1,2))\n",
        "X_train_std = np.std(train_features, axis=(0,1,2))\n",
        "X_train = (train_features - X_train_mean) / X_train_std\n",
        "X_test = (test_features - X_train_mean) / X_train_std"
      ],
      "execution_count": 0,
      "outputs": []
    },
    {
      "cell_type": "markdown",
      "metadata": {
        "id": "CtUn1OCF7JKH",
        "colab_type": "text"
      },
      "source": [
        "## Data Augmentation: Cutout"
      ]
    },
    {
      "cell_type": "code",
      "metadata": {
        "id": "2CALT1I_eNIH",
        "colab_type": "code",
        "colab": {}
      },
      "source": [
        "def cutout(img):\n",
        "        \"\"\"\n",
        "        Args:\n",
        "            img (Tensor): Tensor image of size (C, H, W).\n",
        "        Returns:\n",
        "            Tensor: Image with n_holes of dimension length x length cut out of it.\n",
        "        \"\"\"\n",
        "        n_holes=1\n",
        "        length=8\n",
        "        img= np.array(img)\n",
        "        h = img.shape[0]\n",
        "        w = img.shape[1]\n",
        "        \n",
        "\n",
        "        mask = np.ones((h, w, 3), np.float32)\n",
        "\n",
        "        for n in range(n_holes):\n",
        "            y = np.random.randint(h)\n",
        "            x = np.random.randint(w)\n",
        "\n",
        "            y1 = int(np.clip(y - length // 2, 0, h))\n",
        "            y2 = int(np.clip(y + length // 2, 0, h))\n",
        "            x1 = int(np.clip(x - length // 2, 0, w))\n",
        "            x2 = int(np.clip(x + length // 2, 0, w))\n",
        "\n",
        "            mask[y1: y2, x1: x2] = 0.\n",
        "            #print(mask, img.shape, y, x )\n",
        "\n",
        "      \n",
        "       \n",
        "        img = img * mask\n",
        "       \n",
        "   \n",
        "      \n",
        "\n",
        "        return img"
      ],
      "execution_count": 0,
      "outputs": []
    },
    {
      "cell_type": "code",
      "metadata": {
        "id": "npqk5RxteXBv",
        "colab_type": "code",
        "outputId": "d1340831-7009-48f1-a013-5787db76941b",
        "colab": {
          "base_uri": "https://localhost:8080/",
          "height": 521
        }
      },
      "source": [
        "new_image= cutout(test_features[67])\n",
        "plt.imshow(test_features[67])\n",
        "plt.show()\n",
        "plt.imshow(new_image)\n",
        "plt.show()\n",
        "\n",
        "#cv2_imshow(new_image)\n",
        "\n"
      ],
      "execution_count": 9,
      "outputs": [
        {
          "output_type": "display_data",
          "data": {
            "image/png": "[encoded data removed]",
            "text/plain": [
              "<Figure size 432x288 with 1 Axes>"
            ]
          },
          "metadata": {
            "tags": []
          }
        },
        {
          "output_type": "display_data",
          "data": {
            "image/png": "[encoded data removed]",
            "text/plain": [
              "<Figure size 432x288 with 1 Axes>"
            ]
          },
          "metadata": {
            "tags": []
          }
        }
      ]
    },
    {
      "cell_type": "markdown",
      "metadata": {
        "id": "2h-jv__a7Fj5",
        "colab_type": "text"
      },
      "source": [
        "## Network Architecture as per DAVID NET"
      ]
    },
    {
      "cell_type": "code",
      "metadata": {
        "id": "cCpt7wbdxS5P",
        "colab_type": "code",
        "outputId": "5d467c7e-79b6-476a-e8d0-009b3e77ed71",
        "colab": {
          "base_uri": "https://localhost:8080/",
          "height": 462
        }
      },
      "source": [
        "# model definition\n",
        "\n",
        "input_layer=Input(shape=(32,32,3))\n",
        "\n",
        "#Prep\n",
        "prep= Convolution2D(64, 3,3, input_shape=(32, 32, 3))(input_layer) \n",
        "prep = ZeroPadding2D((1,1))(prep)\n",
        "prep = BatchNormalization()(prep)\n",
        "prep = Activation('relu')(prep)\n",
        "\n",
        "#layer 1\n",
        "layer1=Convolution2D(128, 3,3)(prep)\n",
        "layer1 = ZeroPadding2D((1,1))(layer1)\n",
        "layer1 = BatchNormalization()(layer1)\n",
        "layer1 = Activation('relu')(layer1)\n",
        "layerp = MaxPooling2D(2)(layer1)\n",
        "\n",
        "# Layer1_residual_block\n",
        "\n",
        "#    Layer1_residual_block_identity_layer\n",
        "layer1_residual_block_identity_layer = Lambda(lambda x:x, name='layer1_residual_block_identity_layer')(layerp)\n",
        "\n",
        "#    Layer1_residual_block_res1\n",
        "layer1_residual_block_res1_conv =  Convolution2D(filters=128, kernel_size=3, \n",
        "                                                 strides=1, bias=False, \n",
        "                                                 name='layer1_residual_block_res1_conv')(layer1_residual_block_identity_layer)\n",
        "layer1_residual_block_res1_conv_padding = ZeroPadding2D((1,1), \n",
        "                                                        name='layer1_residual_block_res1_conv_padding')(layer1_residual_block_res1_conv)\n",
        "layer1_residual_block_res1_bn = BatchNormalization(name='layer1_residual_block_res1_bn')(layer1_residual_block_res1_conv_padding)\n",
        "layer1_residual_block_res1_relu = Activation('relu', name='layer1_residual_block_res1_relu')(layer1_residual_block_res1_bn)\n",
        "\n",
        "#    Layer1_residual_block_res2\n",
        "layer1_residual_block_res2_conv = Convolution2D(filters=128, kernel_size=3, \n",
        "                                                 strides=1, bias=False, \n",
        "                                                 name='layer1_residual_block_res2_conv')(layer1_residual_block_res1_relu)\n",
        "layer1_residual_block_res2_conv_padding = ZeroPadding2D((1,1), \n",
        "                                                        name='layer1_residual_block_res2_conv_padding')(layer1_residual_block_res2_conv)\n",
        "layer1_residual_block_res2_bn = BatchNormalization(name='layer1_residual_block_res2_bn')(layer1_residual_block_res2_conv_padding)\n",
        "layer1_residual_block_res2_relu = Activation('relu', name='layer1_residual_block_res2_relu')(layer1_residual_block_res2_bn)\n",
        "\n",
        "#    Layer1_residual_block_add\n",
        "layer1_residual_block_add = Add(name='layer1_residual_block_add')([layer1_residual_block_res2_relu, \n",
        "                                                                  layer1_residual_block_identity_layer]\n",
        "                                                                 )\n",
        "\n",
        "#layer 2\n",
        "layer2=Convolution2D(256, 3,3,border_mode='same')(layer1_residual_block_add) \n",
        "layer2 = ZeroPadding2D((1,1))(layer2)\n",
        "layer2 = BatchNormalization()(layer2)\n",
        "layer2 = Activation('relu')(layer2)\n",
        "\n",
        "#layer 3\n",
        "layer3=Convolution2D(512, 3,3,border_mode='same')(layer2) \n",
        "layer3 = BatchNormalization()(layer3)\n",
        "layer3 = Activation('relu')(layer3)\n",
        "layerq = MaxPooling2D(2)(layer3)\n",
        "\n",
        "# Layer3_residual_block\n",
        "\n",
        "#    Layer3_residual_block_identity_layer\n",
        "layer3_residual_block_identity_layer = Lambda(lambda x:x, name='layer3_residual_block_identity_layer')(layerq)\n",
        "\n",
        "#    Layer3_residual_block_res1\n",
        "layer3_residual_block_res1_conv =  Convolution2D(filters=512, kernel_size=3, \n",
        "                                                 strides=1, bias=False, \n",
        "                                                 name='layer3_residual_block_res1_conv')(layer3_residual_block_identity_layer)\n",
        "layer3_residual_block_res1_conv_padding = ZeroPadding2D((1,1), \n",
        "                                                        name='layer3_residual_block_res1_conv_padding')(layer3_residual_block_res1_conv)\n",
        "layer3_residual_block_res1_bn = BatchNormalization(name='layer3_residual_block_res1_bn')(layer3_residual_block_res1_conv_padding)\n",
        "layer3_residual_block_res1_relu = Activation('relu', name='layer3_residual_block_res1_relu')(layer3_residual_block_res1_bn)\n",
        "\n",
        "#    Layer3_residual_block_res2\n",
        "layer3_residual_block_res2_conv = Convolution2D(filters=512, kernel_size=3, \n",
        "                                                 strides=1, bias=False, \n",
        "                                                 name='layer3_residual_block_res2_conv')(layer3_residual_block_res1_relu)\n",
        "layer3_residual_block_res2_conv_padding = ZeroPadding2D((1,1), \n",
        "                                                        name='layer3_residual_block_res2_conv_padding')(layer3_residual_block_res2_conv)\n",
        "layer3_residual_block_res2_bn = BatchNormalization(name='layer3_residual_block_res2_bn')(layer3_residual_block_res2_conv_padding)\n",
        "layer3_residual_block_res2_relu = Activation('relu', name='layer3_residual_block_res2_relu')(layer3_residual_block_res2_bn)\n",
        "\n",
        "#    Layer1_residual_block_add\n",
        "layer3_residual_block_add = Add(name='layer3_residual_block_add')([layer3_residual_block_res2_relu, \n",
        "                                                                  layer3_residual_block_identity_layer]\n",
        "                                                                 )\n",
        "# Classifier\n",
        "# classifier\n",
        "classifier_mp = MaxPooling2D(pool_size=4, name='classifier_mp')(layer3_residual_block_add)\n",
        "classifier_flat = Flatten(name='classifier_flat')(classifier_mp)\n",
        "classifier_fc = Dense(units=10, use_bias=False, name='classifier_fc')(classifier_flat)\n",
        "classifier_logits = Activation('softmax', name='classifier_logits')(classifier_fc)\n",
        "model = Model(input_layer, classifier_logits)\n",
        "\n",
        "\n"
      ],
      "execution_count": 10,
      "outputs": [
        {
          "output_type": "stream",
          "text": [
            "WARNING: Logging before flag parsing goes to stderr.\n",
            "W0802 14:35:57.041103 140097708709760 deprecation_wrapper.py:119] From /usr/local/lib/python3.6/dist-packages/keras/backend/tensorflow_backend.py:74: The name tf.get_default_graph is deprecated. Please use tf.compat.v1.get_default_graph instead.\n",
            "\n",
            "W0802 14:35:57.056174 140097708709760 deprecation_wrapper.py:119] From /usr/local/lib/python3.6/dist-packages/keras/backend/tensorflow_backend.py:517: The name tf.placeholder is deprecated. Please use tf.compat.v1.placeholder instead.\n",
            "\n",
            "/usr/local/lib/python3.6/dist-packages/ipykernel_launcher.py:5: UserWarning: Update your `Conv2D` call to the Keras 2 API: `Conv2D(64, (3, 3), input_shape=(32, 32, 3...)`\n",
            "  \"\"\"\n",
            "W0802 14:35:57.060357 140097708709760 deprecation_wrapper.py:119] From /usr/local/lib/python3.6/dist-packages/keras/backend/tensorflow_backend.py:4138: The name tf.random_uniform is deprecated. Please use tf.random.uniform instead.\n",
            "\n",
            "W0802 14:35:57.086069 140097708709760 deprecation_wrapper.py:119] From /usr/local/lib/python3.6/dist-packages/keras/backend/tensorflow_backend.py:174: The name tf.get_default_session is deprecated. Please use tf.compat.v1.get_default_session instead.\n",
            "\n",
            "W0802 14:35:57.089668 140097708709760 deprecation_wrapper.py:119] From /usr/local/lib/python3.6/dist-packages/keras/backend/tensorflow_backend.py:181: The name tf.ConfigProto is deprecated. Please use tf.compat.v1.ConfigProto instead.\n",
            "\n",
            "W0802 14:35:57.712812 140097708709760 deprecation_wrapper.py:119] From /usr/local/lib/python3.6/dist-packages/keras/backend/tensorflow_backend.py:1834: The name tf.nn.fused_batch_norm is deprecated. Please use tf.compat.v1.nn.fused_batch_norm instead.\n",
            "\n",
            "/usr/local/lib/python3.6/dist-packages/ipykernel_launcher.py:11: UserWarning: Update your `Conv2D` call to the Keras 2 API: `Conv2D(128, (3, 3))`\n",
            "  # This is added back by InteractiveShellApp.init_path()\n",
            "W0802 14:35:57.866118 140097708709760 deprecation_wrapper.py:119] From /usr/local/lib/python3.6/dist-packages/keras/backend/tensorflow_backend.py:3976: The name tf.nn.max_pool is deprecated. Please use tf.nn.max_pool2d instead.\n",
            "\n",
            "/usr/local/lib/python3.6/dist-packages/ipykernel_launcher.py:25: UserWarning: Update your `Conv2D` call to the Keras 2 API: `Conv2D(filters=128, kernel_size=3, strides=1, name=\"layer1_residual_block_res1_conv\", use_bias=False)`\n",
            "/usr/local/lib/python3.6/dist-packages/ipykernel_launcher.py:34: UserWarning: Update your `Conv2D` call to the Keras 2 API: `Conv2D(filters=128, kernel_size=3, strides=1, name=\"layer1_residual_block_res2_conv\", use_bias=False)`\n",
            "/usr/local/lib/python3.6/dist-packages/ipykernel_launcher.py:46: UserWarning: Update your `Conv2D` call to the Keras 2 API: `Conv2D(256, (3, 3), padding=\"same\")`\n",
            "/usr/local/lib/python3.6/dist-packages/ipykernel_launcher.py:52: UserWarning: Update your `Conv2D` call to the Keras 2 API: `Conv2D(512, (3, 3), padding=\"same\")`\n",
            "/usr/local/lib/python3.6/dist-packages/ipykernel_launcher.py:65: UserWarning: Update your `Conv2D` call to the Keras 2 API: `Conv2D(filters=512, kernel_size=3, strides=1, name=\"layer3_residual_block_res1_conv\", use_bias=False)`\n",
            "/usr/local/lib/python3.6/dist-packages/ipykernel_launcher.py:74: UserWarning: Update your `Conv2D` call to the Keras 2 API: `Conv2D(filters=512, kernel_size=3, strides=1, name=\"layer3_residual_block_res2_conv\", use_bias=False)`\n"
          ],
          "name": "stderr"
        }
      ]
    },
    {
      "cell_type": "code",
      "metadata": {
        "id": "AUhWT47O7qlt",
        "colab_type": "code",
        "outputId": "835a22a7-04dc-4f04-c10a-62b413d1e0ad",
        "colab": {
          "base_uri": "https://localhost:8080/",
          "height": 1000
        }
      },
      "source": [
        "model.summary()"
      ],
      "execution_count": 11,
      "outputs": [
        {
          "output_type": "stream",
          "text": [
            "__________________________________________________________________________________________________\n",
            "Layer (type)                    Output Shape         Param #     Connected to                     \n",
            "==================================================================================================\n",
            "input_1 (InputLayer)            (None, 32, 32, 3)    0                                            \n",
            "__________________________________________________________________________________________________\n",
            "conv2d_1 (Conv2D)               (None, 30, 30, 64)   1792        input_1[0][0]                    \n",
            "__________________________________________________________________________________________________\n",
            "zero_padding2d_1 (ZeroPadding2D (None, 32, 32, 64)   0           conv2d_1[0][0]                   \n",
            "__________________________________________________________________________________________________\n",
            "batch_normalization_1 (BatchNor (None, 32, 32, 64)   256         zero_padding2d_1[0][0]           \n",
            "__________________________________________________________________________________________________\n",
            "activation_1 (Activation)       (None, 32, 32, 64)   0           batch_normalization_1[0][0]      \n",
            "__________________________________________________________________________________________________\n",
            "conv2d_2 (Conv2D)               (None, 30, 30, 128)  73856       activation_1[0][0]               \n",
            "__________________________________________________________________________________________________\n",
            "zero_padding2d_2 (ZeroPadding2D (None, 32, 32, 128)  0           conv2d_2[0][0]                   \n",
            "__________________________________________________________________________________________________\n",
            "batch_normalization_2 (BatchNor (None, 32, 32, 128)  512         zero_padding2d_2[0][0]           \n",
            "__________________________________________________________________________________________________\n",
            "activation_2 (Activation)       (None, 32, 32, 128)  0           batch_normalization_2[0][0]      \n",
            "__________________________________________________________________________________________________\n",
            "max_pooling2d_1 (MaxPooling2D)  (None, 16, 16, 128)  0           activation_2[0][0]               \n",
            "__________________________________________________________________________________________________\n",
            "layer1_residual_block_identity_ (None, 16, 16, 128)  0           max_pooling2d_1[0][0]            \n",
            "__________________________________________________________________________________________________\n",
            "layer1_residual_block_res1_conv (None, 14, 14, 128)  147456      layer1_residual_block_identity_la\n",
            "__________________________________________________________________________________________________\n",
            "layer1_residual_block_res1_conv (None, 16, 16, 128)  0           layer1_residual_block_res1_conv[0\n",
            "__________________________________________________________________________________________________\n",
            "layer1_residual_block_res1_bn ( (None, 16, 16, 128)  512         layer1_residual_block_res1_conv_p\n",
            "__________________________________________________________________________________________________\n",
            "layer1_residual_block_res1_relu (None, 16, 16, 128)  0           layer1_residual_block_res1_bn[0][\n",
            "__________________________________________________________________________________________________\n",
            "layer1_residual_block_res2_conv (None, 14, 14, 128)  147456      layer1_residual_block_res1_relu[0\n",
            "__________________________________________________________________________________________________\n",
            "layer1_residual_block_res2_conv (None, 16, 16, 128)  0           layer1_residual_block_res2_conv[0\n",
            "__________________________________________________________________________________________________\n",
            "layer1_residual_block_res2_bn ( (None, 16, 16, 128)  512         layer1_residual_block_res2_conv_p\n",
            "__________________________________________________________________________________________________\n",
            "layer1_residual_block_res2_relu (None, 16, 16, 128)  0           layer1_residual_block_res2_bn[0][\n",
            "__________________________________________________________________________________________________\n",
            "layer1_residual_block_add (Add) (None, 16, 16, 128)  0           layer1_residual_block_res2_relu[0\n",
            "                                                                 layer1_residual_block_identity_la\n",
            "__________________________________________________________________________________________________\n",
            "conv2d_3 (Conv2D)               (None, 16, 16, 256)  295168      layer1_residual_block_add[0][0]  \n",
            "__________________________________________________________________________________________________\n",
            "zero_padding2d_3 (ZeroPadding2D (None, 18, 18, 256)  0           conv2d_3[0][0]                   \n",
            "__________________________________________________________________________________________________\n",
            "batch_normalization_3 (BatchNor (None, 18, 18, 256)  1024        zero_padding2d_3[0][0]           \n",
            "__________________________________________________________________________________________________\n",
            "activation_3 (Activation)       (None, 18, 18, 256)  0           batch_normalization_3[0][0]      \n",
            "__________________________________________________________________________________________________\n",
            "conv2d_4 (Conv2D)               (None, 18, 18, 512)  1180160     activation_3[0][0]               \n",
            "__________________________________________________________________________________________________\n",
            "batch_normalization_4 (BatchNor (None, 18, 18, 512)  2048        conv2d_4[0][0]                   \n",
            "__________________________________________________________________________________________________\n",
            "activation_4 (Activation)       (None, 18, 18, 512)  0           batch_normalization_4[0][0]      \n",
            "__________________________________________________________________________________________________\n",
            "max_pooling2d_2 (MaxPooling2D)  (None, 9, 9, 512)    0           activation_4[0][0]               \n",
            "__________________________________________________________________________________________________\n",
            "layer3_residual_block_identity_ (None, 9, 9, 512)    0           max_pooling2d_2[0][0]            \n",
            "__________________________________________________________________________________________________\n",
            "layer3_residual_block_res1_conv (None, 7, 7, 512)    2359296     layer3_residual_block_identity_la\n",
            "__________________________________________________________________________________________________\n",
            "layer3_residual_block_res1_conv (None, 9, 9, 512)    0           layer3_residual_block_res1_conv[0\n",
            "__________________________________________________________________________________________________\n",
            "layer3_residual_block_res1_bn ( (None, 9, 9, 512)    2048        layer3_residual_block_res1_conv_p\n",
            "__________________________________________________________________________________________________\n",
            "layer3_residual_block_res1_relu (None, 9, 9, 512)    0           layer3_residual_block_res1_bn[0][\n",
            "__________________________________________________________________________________________________\n",
            "layer3_residual_block_res2_conv (None, 7, 7, 512)    2359296     layer3_residual_block_res1_relu[0\n",
            "__________________________________________________________________________________________________\n",
            "layer3_residual_block_res2_conv (None, 9, 9, 512)    0           layer3_residual_block_res2_conv[0\n",
            "__________________________________________________________________________________________________\n",
            "layer3_residual_block_res2_bn ( (None, 9, 9, 512)    2048        layer3_residual_block_res2_conv_p\n",
            "__________________________________________________________________________________________________\n",
            "layer3_residual_block_res2_relu (None, 9, 9, 512)    0           layer3_residual_block_res2_bn[0][\n",
            "__________________________________________________________________________________________________\n",
            "layer3_residual_block_add (Add) (None, 9, 9, 512)    0           layer3_residual_block_res2_relu[0\n",
            "                                                                 layer3_residual_block_identity_la\n",
            "__________________________________________________________________________________________________\n",
            "classifier_mp (MaxPooling2D)    (None, 2, 2, 512)    0           layer3_residual_block_add[0][0]  \n",
            "__________________________________________________________________________________________________\n",
            "classifier_flat (Flatten)       (None, 2048)         0           classifier_mp[0][0]              \n",
            "__________________________________________________________________________________________________\n",
            "classifier_fc (Dense)           (None, 10)           20480       classifier_flat[0][0]            \n",
            "__________________________________________________________________________________________________\n",
            "classifier_logits (Activation)  (None, 10)           0           classifier_fc[0][0]              \n",
            "==================================================================================================\n",
            "Total params: 6,593,920\n",
            "Trainable params: 6,589,440\n",
            "Non-trainable params: 4,480\n",
            "__________________________________________________________________________________________________\n"
          ],
          "name": "stdout"
        }
      ]
    },
    {
      "cell_type": "code",
      "metadata": {
        "id": "b82_UCL-3YPF",
        "colab_type": "code",
        "colab": {}
      },
      "source": [
        "filepath=\"weights.best.hdf5\"\n",
        "checkpoint = ModelCheckpoint(filepath, monitor='val_acc', verbose=1, save_best_only=True, mode='max')"
      ],
      "execution_count": 0,
      "outputs": []
    },
    {
      "cell_type": "markdown",
      "metadata": {
        "id": "lwENQ6HI6y6W",
        "colab_type": "text"
      },
      "source": [
        "## One Cycle LR Implementation"
      ]
    },
    {
      "cell_type": "code",
      "metadata": {
        "id": "4XZLEVzQV-e5",
        "colab_type": "code",
        "colab": {}
      },
      "source": [
        "# Implement One Cycle Policy Algorithm in the Keras Callback Class\n",
        "\n",
        "from sklearn.metrics import log_loss, roc_auc_score, accuracy_score\n",
        "from keras.losses import binary_crossentropy\n",
        "from keras.metrics import binary_accuracy\n",
        "from keras import backend as K\n",
        "from keras.callbacks import *\n",
        "\n",
        "class CyclicLR(keras.callbacks.Callback):\n",
        "    \n",
        "    def __init__(self,base_lr, max_lr, step_size, base_m, max_m, cyclical_momentum):\n",
        " \n",
        "        self.base_lr = base_lr\n",
        "        self.max_lr = max_lr\n",
        "        self.base_m = base_m\n",
        "        self.max_m = max_m\n",
        "        self.cyclical_momentum = cyclical_momentum\n",
        "        self.step_size = step_size\n",
        "        \n",
        "        self.clr_iterations = 0.\n",
        "        self.cm_iterations = 0.\n",
        "        self.trn_iterations = 0.\n",
        "        self.history = {}\n",
        "        \n",
        "    def clr(self):\n",
        "        \n",
        "        cycle = np.floor(1+self.clr_iterations/(2*self.step_size))\n",
        "        \n",
        "        if cycle == 2:\n",
        "            x = np.abs(self.clr_iterations/self.step_size - 2*cycle + 1)          \n",
        "            return self.base_lr-(self.base_lr-self.base_lr/100)*np.maximum(0,(1-x))\n",
        "        \n",
        "        else:\n",
        "            x = np.abs(self.clr_iterations/self.step_size - 2*cycle + 1)\n",
        "            return self.base_lr + (self.max_lr-self.base_lr)*np.maximum(0,(1-x))\n",
        "    \n",
        "    def cm(self):\n",
        "        \n",
        "        cycle = np.floor(1+self.clr_iterations/(2*self.step_size))\n",
        "        \n",
        "        if cycle == 2:\n",
        "            \n",
        "            x = np.abs(self.clr_iterations/self.step_size - 2*cycle + 1) \n",
        "            return self.max_m\n",
        "        \n",
        "        else:\n",
        "            x = np.abs(self.clr_iterations/self.step_size - 2*cycle + 1)\n",
        "            return self.max_m - (self.max_m-self.base_m)*np.maximum(0,(1-x))\n",
        "        \n",
        "        \n",
        "    def on_train_begin(self, logs={}):\n",
        "        logs = logs or {}\n",
        "\n",
        "        if self.clr_iterations == 0:\n",
        "            K.set_value(self.model.optimizer.lr, self.base_lr)\n",
        "        else:\n",
        "            K.set_value(self.model.optimizer.lr, self.clr())\n",
        "            \n",
        "        if self.cyclical_momentum == True:\n",
        "            if self.clr_iterations == 0:\n",
        "                K.set_value(self.model.optimizer.momentum, self.cm())\n",
        "            else:\n",
        "                K.set_value(self.model.optimizer.momentum, self.cm())\n",
        "            \n",
        "            \n",
        "    def on_batch_begin(self, batch, logs=None):\n",
        "        \n",
        "        logs = logs or {}\n",
        "        self.trn_iterations += 1\n",
        "        self.clr_iterations += 1\n",
        "\n",
        "        self.history.setdefault('lr', []).append(K.get_value(self.model.optimizer.lr))\n",
        "        self.history.setdefault('iterations', []).append(self.trn_iterations)\n",
        "        \n",
        "        if self.cyclical_momentum == True:\n",
        "            self.history.setdefault('momentum', []).append(K.get_value(self.model.optimizer.momentum))\n",
        "\n",
        "        for k, v in logs.items():\n",
        "            self.history.setdefault(k, []).append(v)\n",
        "        \n",
        "        K.set_value(self.model.optimizer.lr, self.clr())\n",
        "        \n",
        "        if self.cyclical_momentum == True:\n",
        "            K.set_value(self.model.optimizer.momentum, self.cm())"
      ],
      "execution_count": 0,
      "outputs": []
    },
    {
      "cell_type": "code",
      "metadata": {
        "id": "xNAjweI_b6OG",
        "colab_type": "code",
        "outputId": "8dc69b23-611d-451b-a63b-1dbb8c00d848",
        "colab": {
          "base_uri": "https://localhost:8080/",
          "height": 1000
        }
      },
      "source": [
        "# Define Ony Cycle Policy parameters and train model\n",
        "########################################################################################\n",
        "from keras.optimizers import Adam, SGD\n",
        "from keras.callbacks import ModelCheckpoint, ReduceLROnPlateau, EarlyStopping\n",
        "\n",
        "# CLR parameters\n",
        "\n",
        "batch_size = 512\n",
        "epochs = 24\n",
        "max_lr = 0.025\n",
        "base_lr = 0.00000001\n",
        "max_m = 0.98\n",
        "base_m = 0.85\n",
        "\n",
        "cyclical_momentum = True\n",
        "augment = False\n",
        "cycles = 2.35\n",
        "\n",
        "iterations = round(len(X_train)/batch_size*epochs)\n",
        "iterations = list(range(0,iterations+1))\n",
        "step_size = len(iterations)/(cycles)\n",
        "\n",
        "\n",
        "model.compile(loss='categorical_crossentropy', optimizer=SGD(0.00000001), metrics=['accuracy'])\n",
        "\n",
        "clr =  CyclicLR(base_lr=base_lr,\n",
        "                max_lr=max_lr,\n",
        "                step_size=step_size,\n",
        "                max_m=max_m,\n",
        "                base_m=base_m,\n",
        "                cyclical_momentum=cyclical_momentum)\n",
        "    \n",
        "callbacks = [clr,\n",
        "            ModelCheckpoint(filepath='best_model.h5', monitor='val_acc',mode='max',verbose=1,save_best_only=True)]\n",
        "\n",
        "\n",
        "from keras.preprocessing.image import ImageDataGenerator\n",
        "\n",
        "datagen = ImageDataGenerator(zoom_range=0.0, \n",
        "                             horizontal_flip=False, preprocessing_function=cutout)\n",
        "# train the model\n",
        "start = time.time()\n",
        "# Train the model\n",
        "model_info = model.fit_generator(datagen.flow(X_train, train_labels, batch_size = 512), samples_per_epoch = train_features.shape[0], nb_epoch = epochs, validation_data = (X_test, test_labels), verbose=1, callbacks=callbacks)\n",
        "end = time.time()"
      ],
      "execution_count": 14,
      "outputs": [
        {
          "output_type": "stream",
          "text": [
            "W0802 14:35:58.947429 140097708709760 deprecation_wrapper.py:119] From /usr/local/lib/python3.6/dist-packages/keras/optimizers.py:790: The name tf.train.Optimizer is deprecated. Please use tf.compat.v1.train.Optimizer instead.\n",
            "\n",
            "/usr/local/lib/python3.6/dist-packages/ipykernel_launcher.py:42: UserWarning: The semantics of the Keras 2 argument `steps_per_epoch` is not the same as the Keras 1 argument `samples_per_epoch`. `steps_per_epoch` is the number of batches to draw from the generator at each epoch. Basically steps_per_epoch = samples_per_epoch/batch_size. Similarly `nb_val_samples`->`validation_steps` and `val_samples`->`steps` arguments have changed. Update your method calls accordingly.\n",
            "/usr/local/lib/python3.6/dist-packages/ipykernel_launcher.py:42: UserWarning: Update your `fit_generator` call to the Keras 2 API: `fit_generator(<keras_pre..., validation_data=(array([[[..., verbose=1, callbacks=[<__main__..., steps_per_epoch=97, epochs=24)`\n",
            "W0802 14:35:59.057326 140097708709760 deprecation.py:323] From /usr/local/lib/python3.6/dist-packages/tensorflow/python/ops/math_grad.py:1250: add_dispatch_support.<locals>.wrapper (from tensorflow.python.ops.array_ops) is deprecated and will be removed in a future version.\n",
            "Instructions for updating:\n",
            "Use tf.where in 2.0, which has the same broadcast rule as np.where\n"
          ],
          "name": "stderr"
        },
        {
          "output_type": "stream",
          "text": [
            "Epoch 1/24\n",
            "97/97 [==============================] - 64s 662ms/step - loss: 2.5381 - acc: 0.3381 - val_loss: 4.6693 - val_acc: 0.3392\n",
            "\n",
            "Epoch 00001: val_acc improved from -inf to 0.33920, saving model to best_model.h5\n",
            "Epoch 2/24\n",
            "97/97 [==============================] - 56s 578ms/step - loss: 1.6135 - acc: 0.5014 - val_loss: 1.9686 - val_acc: 0.5043\n",
            "\n",
            "Epoch 00002: val_acc improved from 0.33920 to 0.50430, saving model to best_model.h5\n",
            "Epoch 3/24\n",
            "97/97 [==============================] - 51s 530ms/step - loss: 1.3296 - acc: 0.5927 - val_loss: 2.3271 - val_acc: 0.5301\n",
            "\n",
            "Epoch 00003: val_acc improved from 0.50430 to 0.53010, saving model to best_model.h5\n",
            "Epoch 4/24\n",
            "97/97 [==============================] - 51s 526ms/step - loss: 1.1544 - acc: 0.6447 - val_loss: 1.4339 - val_acc: 0.6164\n",
            "\n",
            "Epoch 00004: val_acc improved from 0.53010 to 0.61640, saving model to best_model.h5\n",
            "Epoch 5/24\n",
            "97/97 [==============================] - 51s 530ms/step - loss: 0.9038 - acc: 0.7102 - val_loss: 1.0355 - val_acc: 0.6557\n",
            "\n",
            "Epoch 00005: val_acc improved from 0.61640 to 0.65570, saving model to best_model.h5\n",
            "Epoch 6/24\n",
            "97/97 [==============================] - 51s 527ms/step - loss: 0.8588 - acc: 0.7346 - val_loss: 0.8824 - val_acc: 0.7142\n",
            "\n",
            "Epoch 00006: val_acc improved from 0.65570 to 0.71420, saving model to best_model.h5\n",
            "Epoch 7/24\n",
            "97/97 [==============================] - 51s 526ms/step - loss: 0.7510 - acc: 0.7575 - val_loss: 0.8363 - val_acc: 0.7400\n",
            "\n",
            "Epoch 00007: val_acc improved from 0.71420 to 0.74000, saving model to best_model.h5\n",
            "Epoch 8/24\n",
            "97/97 [==============================] - 51s 528ms/step - loss: 0.6164 - acc: 0.7983 - val_loss: 0.7542 - val_acc: 0.7504\n",
            "\n",
            "Epoch 00008: val_acc improved from 0.74000 to 0.75040, saving model to best_model.h5\n",
            "Epoch 9/24\n",
            "97/97 [==============================] - 51s 530ms/step - loss: 0.6036 - acc: 0.8038 - val_loss: 1.0290 - val_acc: 0.7331\n",
            "\n",
            "Epoch 00009: val_acc did not improve from 0.75040\n",
            "Epoch 10/24\n",
            "97/97 [==============================] - 51s 529ms/step - loss: 0.5134 - acc: 0.8328 - val_loss: 0.6147 - val_acc: 0.8024\n",
            "\n",
            "Epoch 00010: val_acc improved from 0.75040 to 0.80240, saving model to best_model.h5\n",
            "Epoch 11/24\n",
            "97/97 [==============================] - 51s 529ms/step - loss: 0.5056 - acc: 0.8388 - val_loss: 0.8713 - val_acc: 0.7360\n",
            "\n",
            "Epoch 00011: val_acc did not improve from 0.80240\n",
            "Epoch 12/24\n",
            "97/97 [==============================] - 51s 529ms/step - loss: 0.3596 - acc: 0.8800 - val_loss: 0.6113 - val_acc: 0.8138\n",
            "\n",
            "Epoch 00012: val_acc improved from 0.80240 to 0.81380, saving model to best_model.h5\n",
            "Epoch 13/24\n",
            "97/97 [==============================] - 51s 530ms/step - loss: 0.2927 - acc: 0.8991 - val_loss: 0.7921 - val_acc: 0.7754\n",
            "\n",
            "Epoch 00013: val_acc did not improve from 0.81380\n",
            "Epoch 14/24\n",
            "97/97 [==============================] - 51s 529ms/step - loss: 0.2350 - acc: 0.9191 - val_loss: 0.5878 - val_acc: 0.8183\n",
            "\n",
            "Epoch 00014: val_acc improved from 0.81380 to 0.81830, saving model to best_model.h5\n",
            "Epoch 15/24\n",
            "97/97 [==============================] - 51s 529ms/step - loss: 0.1841 - acc: 0.9363 - val_loss: 0.6686 - val_acc: 0.8106\n",
            "\n",
            "Epoch 00015: val_acc did not improve from 0.81830\n",
            "Epoch 16/24\n",
            "97/97 [==============================] - 51s 529ms/step - loss: 0.1733 - acc: 0.9408 - val_loss: 0.6825 - val_acc: 0.8069\n",
            "\n",
            "Epoch 00016: val_acc did not improve from 0.81830\n",
            "Epoch 17/24\n",
            "97/97 [==============================] - 51s 530ms/step - loss: 0.1051 - acc: 0.9638 - val_loss: 0.6414 - val_acc: 0.8303\n",
            "\n",
            "Epoch 00017: val_acc improved from 0.81830 to 0.83030, saving model to best_model.h5\n",
            "Epoch 18/24\n",
            "97/97 [==============================] - 51s 530ms/step - loss: 0.0620 - acc: 0.9798 - val_loss: 0.5930 - val_acc: 0.8383\n",
            "\n",
            "Epoch 00018: val_acc improved from 0.83030 to 0.83830, saving model to best_model.h5\n",
            "Epoch 19/24\n",
            "97/97 [==============================] - 51s 529ms/step - loss: 0.0537 - acc: 0.9826 - val_loss: 0.7362 - val_acc: 0.8227\n",
            "\n",
            "Epoch 00019: val_acc did not improve from 0.83830\n",
            "Epoch 20/24\n",
            "97/97 [==============================] - 51s 529ms/step - loss: 0.0469 - acc: 0.9851 - val_loss: 0.6269 - val_acc: 0.8487\n",
            "\n",
            "Epoch 00020: val_acc improved from 0.83830 to 0.84870, saving model to best_model.h5\n",
            "Epoch 21/24\n",
            "97/97 [==============================] - 51s 530ms/step - loss: 0.0668 - acc: 0.9768 - val_loss: 1.1248 - val_acc: 0.7703\n",
            "\n",
            "Epoch 00021: val_acc did not improve from 0.84870\n",
            "Epoch 22/24\n",
            "97/97 [==============================] - 51s 528ms/step - loss: 0.3373 - acc: 0.8836 - val_loss: 1.4970 - val_acc: 0.7169\n",
            "\n",
            "Epoch 00022: val_acc did not improve from 0.84870\n",
            "Epoch 23/24\n",
            "97/97 [==============================] - 51s 530ms/step - loss: 0.4651 - acc: 0.8460 - val_loss: 1.4893 - val_acc: 0.7213\n",
            "\n",
            "Epoch 00023: val_acc did not improve from 0.84870\n",
            "Epoch 24/24\n",
            "97/97 [==============================] - 51s 529ms/step - loss: 0.4830 - acc: 0.8413 - val_loss: 1.4617 - val_acc: 0.7253\n",
            "\n",
            "Epoch 00024: val_acc did not improve from 0.84870\n"
          ],
          "name": "stdout"
        }
      ]
    },
    {
      "cell_type": "code",
      "metadata": {
        "id": "v3KE_3EPcGBk",
        "colab_type": "code",
        "colab": {
          "base_uri": "https://localhost:8080/",
          "height": 34
        },
        "outputId": "e836c67d-961a-4ee7-ef3a-5dd7895cf1d4"
      },
      "source": [
        "print (\"Model took %0.2f seconds to train\"%(end - start))\n"
      ],
      "execution_count": 15,
      "outputs": [
        {
          "output_type": "stream",
          "text": [
            "Model took 1252.28 seconds to train\n"
          ],
          "name": "stdout"
        }
      ]
    },
    {
      "cell_type": "code",
      "metadata": {
        "id": "3XHDn5fH8gE4",
        "colab_type": "code",
        "colab": {
          "base_uri": "https://localhost:8080/",
          "height": 295
        },
        "outputId": "2b3f2676-92c9-4e02-948f-308dcb3828ff"
      },
      "source": [
        "# Plot Learning Rate\n",
        "import matplotlib.pyplot as plt\n",
        "plt.plot(clr.history['iterations'], clr.history['lr'])\n",
        "plt.xlabel('Training Iterations')\n",
        "plt.ylabel('Learning Rate')\n",
        "plt.title(\"One Cycle Policy\")\n",
        "plt.show()"
      ],
      "execution_count": 16,
      "outputs": [
        {
          "output_type": "display_data",
          "data": {
            "image/png": "[encoded data removed]",
            "text/plain": [
              "<Figure size 432x288 with 1 Axes>"
            ]
          },
          "metadata": {
            "tags": []
          }
        }
      ]
    },
    {
      "cell_type": "code",
      "metadata": {
        "id": "zIkTUMF781tz",
        "colab_type": "code",
        "colab": {
          "base_uri": "https://localhost:8080/",
          "height": 295
        },
        "outputId": "8bced0ae-267f-429e-bdef-900fd998bb77"
      },
      "source": [
        "# Plot momentum\n",
        "import matplotlib.pyplot as plt\n",
        "plt.plot(clr.history['iterations'], clr.history['momentum'])\n",
        "plt.xlabel('Training Iterations')\n",
        "plt.ylabel('Momentum')\n",
        "plt.title(\"One Cycle Policy\")\n",
        "plt.show()"
      ],
      "execution_count": 17,
      "outputs": [
        {
          "output_type": "display_data",
          "data": {
            "image/png": "[encoded data removed]",
            "text/plain": [
              "<Figure size 432x288 with 1 Axes>"
            ]
          },
          "metadata": {
            "tags": []
          }
        }
      ]
    },
    {
      "cell_type": "code",
      "metadata": {
        "id": "5Zv4KF0i8712",
        "colab_type": "code",
        "colab": {}
      },
      "source": [
        ""
      ],
      "execution_count": 0,
      "outputs": []
    }
  ]
}